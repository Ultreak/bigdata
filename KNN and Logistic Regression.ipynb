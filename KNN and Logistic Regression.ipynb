{
 "cells": [
  {
   "cell_type": "markdown",
   "metadata": {},
   "source": [
    "# Clean Data"
   ]
  },
  {
   "cell_type": "code",
   "execution_count": 138,
   "metadata": {},
   "outputs": [
    {
     "data": {
      "text/html": [
       "<div>\n",
       "<style scoped>\n",
       "    .dataframe tbody tr th:only-of-type {\n",
       "        vertical-align: middle;\n",
       "    }\n",
       "\n",
       "    .dataframe tbody tr th {\n",
       "        vertical-align: top;\n",
       "    }\n",
       "\n",
       "    .dataframe thead th {\n",
       "        text-align: right;\n",
       "    }\n",
       "</style>\n",
       "<table border=\"1\" class=\"dataframe\">\n",
       "  <thead>\n",
       "    <tr style=\"text-align: right;\">\n",
       "      <th></th>\n",
       "      <th>Return on Assets</th>\n",
       "      <th>Return on Equity</th>\n",
       "    </tr>\n",
       "    <tr>\n",
       "      <th>Stock</th>\n",
       "      <th></th>\n",
       "      <th></th>\n",
       "    </tr>\n",
       "  </thead>\n",
       "  <tbody>\n",
       "    <tr>\n",
       "      <th>3K-BAT</th>\n",
       "      <td>1.098000</td>\n",
       "      <td>1.452000</td>\n",
       "    </tr>\n",
       "    <tr>\n",
       "      <th>7UP</th>\n",
       "      <td>-2.379000</td>\n",
       "      <td>9.174000</td>\n",
       "    </tr>\n",
       "    <tr>\n",
       "      <th>A</th>\n",
       "      <td>2.493000</td>\n",
       "      <td>4.580000</td>\n",
       "    </tr>\n",
       "    <tr>\n",
       "      <th>A5</th>\n",
       "      <td>8.067001</td>\n",
       "      <td>21.728000</td>\n",
       "    </tr>\n",
       "    <tr>\n",
       "      <th>AAV</th>\n",
       "      <td>-8.644000</td>\n",
       "      <td>-58.974000</td>\n",
       "    </tr>\n",
       "    <tr>\n",
       "      <th>...</th>\n",
       "      <td>...</td>\n",
       "      <td>...</td>\n",
       "    </tr>\n",
       "    <tr>\n",
       "      <th>WR</th>\n",
       "      <td>-2.750000</td>\n",
       "      <td>-19.365999</td>\n",
       "    </tr>\n",
       "    <tr>\n",
       "      <th>YGG</th>\n",
       "      <td>9.396000</td>\n",
       "      <td>15.767999</td>\n",
       "    </tr>\n",
       "    <tr>\n",
       "      <th>YUASA</th>\n",
       "      <td>9.263000</td>\n",
       "      <td>19.083000</td>\n",
       "    </tr>\n",
       "    <tr>\n",
       "      <th>ZEN</th>\n",
       "      <td>0.770000</td>\n",
       "      <td>0.695000</td>\n",
       "    </tr>\n",
       "    <tr>\n",
       "      <th>ZIGA</th>\n",
       "      <td>7.337000</td>\n",
       "      <td>18.221001</td>\n",
       "    </tr>\n",
       "  </tbody>\n",
       "</table>\n",
       "<p>709 rows × 2 columns</p>\n",
       "</div>"
      ],
      "text/plain": [
       "        Return on Assets  Return on Equity\n",
       "Stock                                     \n",
       "3K-BAT          1.098000          1.452000\n",
       "7UP            -2.379000          9.174000\n",
       "A               2.493000          4.580000\n",
       "A5              8.067001         21.728000\n",
       "AAV            -8.644000        -58.974000\n",
       "...                  ...               ...\n",
       "WR             -2.750000        -19.365999\n",
       "YGG             9.396000         15.767999\n",
       "YUASA           9.263000         19.083000\n",
       "ZEN             0.770000          0.695000\n",
       "ZIGA            7.337000         18.221001\n",
       "\n",
       "[709 rows x 2 columns]"
      ]
     },
     "execution_count": 138,
     "metadata": {},
     "output_type": "execute_result"
    }
   ],
   "source": [
    "import math\n",
    "import pandas as pd\n",
    "import numpy as np\n",
    "\n",
    "import seaborn as sns\n",
    "import matplotlib.pyplot as plt\n",
    "%matplotlib inline\n",
    "\n",
    "from sklearn.model_selection import train_test_split\n",
    "dataset = pd.read_csv('filteredRawData.csv')\n",
    "\n",
    "stockList = dataset['Stock'].tolist()\n",
    "dataset = dataset.set_index('Stock')\n",
    "\n",
    "dataset"
   ]
  },
  {
   "cell_type": "code",
   "execution_count": 139,
   "metadata": {},
   "outputs": [
    {
     "data": {
      "text/html": [
       "<div>\n",
       "<style scoped>\n",
       "    .dataframe tbody tr th:only-of-type {\n",
       "        vertical-align: middle;\n",
       "    }\n",
       "\n",
       "    .dataframe tbody tr th {\n",
       "        vertical-align: top;\n",
       "    }\n",
       "\n",
       "    .dataframe thead th {\n",
       "        text-align: right;\n",
       "    }\n",
       "</style>\n",
       "<table border=\"1\" class=\"dataframe\">\n",
       "  <thead>\n",
       "    <tr style=\"text-align: right;\">\n",
       "      <th></th>\n",
       "      <th>Return on Assets</th>\n",
       "      <th>Return on Equity</th>\n",
       "    </tr>\n",
       "  </thead>\n",
       "  <tbody>\n",
       "    <tr>\n",
       "      <th>count</th>\n",
       "      <td>709.000000</td>\n",
       "      <td>709.000000</td>\n",
       "    </tr>\n",
       "    <tr>\n",
       "      <th>mean</th>\n",
       "      <td>2.213630</td>\n",
       "      <td>1.799508</td>\n",
       "    </tr>\n",
       "    <tr>\n",
       "      <th>std</th>\n",
       "      <td>5.133625</td>\n",
       "      <td>38.698868</td>\n",
       "    </tr>\n",
       "    <tr>\n",
       "      <th>min</th>\n",
       "      <td>-55.487996</td>\n",
       "      <td>-898.549000</td>\n",
       "    </tr>\n",
       "    <tr>\n",
       "      <th>25%</th>\n",
       "      <td>0.128000</td>\n",
       "      <td>-0.426000</td>\n",
       "    </tr>\n",
       "    <tr>\n",
       "      <th>50%</th>\n",
       "      <td>2.321000</td>\n",
       "      <td>5.615000</td>\n",
       "    </tr>\n",
       "    <tr>\n",
       "      <th>75%</th>\n",
       "      <td>4.484000</td>\n",
       "      <td>11.525000</td>\n",
       "    </tr>\n",
       "    <tr>\n",
       "      <th>max</th>\n",
       "      <td>17.657000</td>\n",
       "      <td>29.939000</td>\n",
       "    </tr>\n",
       "    <tr>\n",
       "      <th>+3 std</th>\n",
       "      <td>17.614505</td>\n",
       "      <td>117.896112</td>\n",
       "    </tr>\n",
       "    <tr>\n",
       "      <th>-3 std</th>\n",
       "      <td>-13.187244</td>\n",
       "      <td>-114.297097</td>\n",
       "    </tr>\n",
       "  </tbody>\n",
       "</table>\n",
       "</div>"
      ],
      "text/plain": [
       "        Return on Assets  Return on Equity\n",
       "count         709.000000        709.000000\n",
       "mean            2.213630          1.799508\n",
       "std             5.133625         38.698868\n",
       "min           -55.487996       -898.549000\n",
       "25%             0.128000         -0.426000\n",
       "50%             2.321000          5.615000\n",
       "75%             4.484000         11.525000\n",
       "max            17.657000         29.939000\n",
       "+3 std         17.614505        117.896112\n",
       "-3 std        -13.187244       -114.297097"
      ]
     },
     "execution_count": 139,
     "metadata": {},
     "output_type": "execute_result"
    }
   ],
   "source": [
    "statSum = dataset.describe()\n",
    "statSum.loc[\"+3 std\"] = statSum.loc[\"mean\"] + (statSum.loc[\"std\"] * 3)\n",
    "statSum.loc[\"-3 std\"] = statSum.loc[\"mean\"] - (statSum.loc[\"std\"] * 3)\n",
    "\n",
    "statSum"
   ]
  },
  {
   "cell_type": "code",
   "execution_count": 140,
   "metadata": {},
   "outputs": [],
   "source": [
    "import pandas as pd\n",
    "roa = dataset.iloc[:,0] > -40\n",
    "roe = dataset.iloc[:,1] > - 30\n",
    "\n",
    "data2 = {'ROA Filter': roa.tolist(),\n",
    "        'ROE Filter': roe.tolist()}\n",
    "\n",
    "filterData = pd.DataFrame(data2, columns = ['ROA Filter', 'ROE Filter'])\n",
    "filterData.index = dataset.index\n",
    "\n",
    "roaOutlier = filterData[filterData['ROA Filter'] == False]\n",
    "roaOutlier = roaOutlier.drop(['ROE Filter'], axis=1)\n",
    "roeOutlier = filterData[filterData['ROE Filter'] == False]\n",
    "roeOutlier = roeOutlier.drop(['ROA Filter'], axis=1)\n",
    "\n",
    "dataset = dataset[roa & roe]"
   ]
  },
  {
   "cell_type": "code",
   "execution_count": 141,
   "metadata": {
    "scrolled": true
   },
   "outputs": [
    {
     "data": {
      "text/html": [
       "<div>\n",
       "<style scoped>\n",
       "    .dataframe tbody tr th:only-of-type {\n",
       "        vertical-align: middle;\n",
       "    }\n",
       "\n",
       "    .dataframe tbody tr th {\n",
       "        vertical-align: top;\n",
       "    }\n",
       "\n",
       "    .dataframe thead th {\n",
       "        text-align: right;\n",
       "    }\n",
       "</style>\n",
       "<table border=\"1\" class=\"dataframe\">\n",
       "  <thead>\n",
       "    <tr style=\"text-align: right;\">\n",
       "      <th></th>\n",
       "      <th>Return on Assets</th>\n",
       "      <th>Return on Equity</th>\n",
       "    </tr>\n",
       "  </thead>\n",
       "  <tbody>\n",
       "    <tr>\n",
       "      <th>count</th>\n",
       "      <td>685.000000</td>\n",
       "      <td>685.000000</td>\n",
       "    </tr>\n",
       "    <tr>\n",
       "      <th>mean</th>\n",
       "      <td>2.655670</td>\n",
       "      <td>5.382064</td>\n",
       "    </tr>\n",
       "    <tr>\n",
       "      <th>std</th>\n",
       "      <td>4.062655</td>\n",
       "      <td>11.053433</td>\n",
       "    </tr>\n",
       "    <tr>\n",
       "      <th>min</th>\n",
       "      <td>-15.018000</td>\n",
       "      <td>-29.459998</td>\n",
       "    </tr>\n",
       "    <tr>\n",
       "      <th>25%</th>\n",
       "      <td>0.372000</td>\n",
       "      <td>0.361000</td>\n",
       "    </tr>\n",
       "    <tr>\n",
       "      <th>50%</th>\n",
       "      <td>2.449000</td>\n",
       "      <td>6.016000</td>\n",
       "    </tr>\n",
       "    <tr>\n",
       "      <th>75%</th>\n",
       "      <td>4.734000</td>\n",
       "      <td>11.802000</td>\n",
       "    </tr>\n",
       "    <tr>\n",
       "      <th>max</th>\n",
       "      <td>17.657000</td>\n",
       "      <td>29.939000</td>\n",
       "    </tr>\n",
       "    <tr>\n",
       "      <th>+3 std</th>\n",
       "      <td>14.843635</td>\n",
       "      <td>38.542364</td>\n",
       "    </tr>\n",
       "    <tr>\n",
       "      <th>-3 std</th>\n",
       "      <td>-9.532295</td>\n",
       "      <td>-27.778236</td>\n",
       "    </tr>\n",
       "  </tbody>\n",
       "</table>\n",
       "</div>"
      ],
      "text/plain": [
       "        Return on Assets  Return on Equity\n",
       "count         685.000000        685.000000\n",
       "mean            2.655670          5.382064\n",
       "std             4.062655         11.053433\n",
       "min           -15.018000        -29.459998\n",
       "25%             0.372000          0.361000\n",
       "50%             2.449000          6.016000\n",
       "75%             4.734000         11.802000\n",
       "max            17.657000         29.939000\n",
       "+3 std         14.843635         38.542364\n",
       "-3 std         -9.532295        -27.778236"
      ]
     },
     "execution_count": 141,
     "metadata": {},
     "output_type": "execute_result"
    }
   ],
   "source": [
    "statSum = dataset.describe()\n",
    "statSum.loc[\"+3 std\"] = statSum.loc[\"mean\"] + (statSum.loc[\"std\"] * 3)\n",
    "statSum.loc[\"-3 std\"] = statSum.loc[\"mean\"] - (statSum.loc[\"std\"] * 3)\n",
    "\n",
    "statSum"
   ]
  },
  {
   "cell_type": "code",
   "execution_count": 143,
   "metadata": {},
   "outputs": [
    {
     "data": {
      "text/html": [
       "<div>\n",
       "<style scoped>\n",
       "    .dataframe tbody tr th:only-of-type {\n",
       "        vertical-align: middle;\n",
       "    }\n",
       "\n",
       "    .dataframe tbody tr th {\n",
       "        vertical-align: top;\n",
       "    }\n",
       "\n",
       "    .dataframe thead th {\n",
       "        text-align: right;\n",
       "    }\n",
       "</style>\n",
       "<table border=\"1\" class=\"dataframe\">\n",
       "  <thead>\n",
       "    <tr style=\"text-align: right;\">\n",
       "      <th></th>\n",
       "      <th>Return on Assets</th>\n",
       "      <th>Return on Equity</th>\n",
       "    </tr>\n",
       "    <tr>\n",
       "      <th>Stock</th>\n",
       "      <th></th>\n",
       "      <th></th>\n",
       "    </tr>\n",
       "  </thead>\n",
       "  <tbody>\n",
       "    <tr>\n",
       "      <th>3K-BAT</th>\n",
       "      <td>1.098000</td>\n",
       "      <td>1.452000</td>\n",
       "    </tr>\n",
       "    <tr>\n",
       "      <th>7UP</th>\n",
       "      <td>-2.379000</td>\n",
       "      <td>9.174000</td>\n",
       "    </tr>\n",
       "    <tr>\n",
       "      <th>A</th>\n",
       "      <td>2.493000</td>\n",
       "      <td>4.580000</td>\n",
       "    </tr>\n",
       "    <tr>\n",
       "      <th>A5</th>\n",
       "      <td>8.067001</td>\n",
       "      <td>21.728000</td>\n",
       "    </tr>\n",
       "    <tr>\n",
       "      <th>ABICO</th>\n",
       "      <td>4.151000</td>\n",
       "      <td>4.751000</td>\n",
       "    </tr>\n",
       "    <tr>\n",
       "      <th>...</th>\n",
       "      <td>...</td>\n",
       "      <td>...</td>\n",
       "    </tr>\n",
       "    <tr>\n",
       "      <th>WR</th>\n",
       "      <td>-2.750000</td>\n",
       "      <td>-19.365999</td>\n",
       "    </tr>\n",
       "    <tr>\n",
       "      <th>YGG</th>\n",
       "      <td>9.396000</td>\n",
       "      <td>15.767999</td>\n",
       "    </tr>\n",
       "    <tr>\n",
       "      <th>YUASA</th>\n",
       "      <td>9.263000</td>\n",
       "      <td>19.083000</td>\n",
       "    </tr>\n",
       "    <tr>\n",
       "      <th>ZEN</th>\n",
       "      <td>0.770000</td>\n",
       "      <td>0.695000</td>\n",
       "    </tr>\n",
       "    <tr>\n",
       "      <th>ZIGA</th>\n",
       "      <td>7.337000</td>\n",
       "      <td>18.221001</td>\n",
       "    </tr>\n",
       "  </tbody>\n",
       "</table>\n",
       "<p>685 rows × 2 columns</p>\n",
       "</div>"
      ],
      "text/plain": [
       "        Return on Assets  Return on Equity\n",
       "Stock                                     \n",
       "3K-BAT          1.098000          1.452000\n",
       "7UP            -2.379000          9.174000\n",
       "A               2.493000          4.580000\n",
       "A5              8.067001         21.728000\n",
       "ABICO           4.151000          4.751000\n",
       "...                  ...               ...\n",
       "WR             -2.750000        -19.365999\n",
       "YGG             9.396000         15.767999\n",
       "YUASA           9.263000         19.083000\n",
       "ZEN             0.770000          0.695000\n",
       "ZIGA            7.337000         18.221001\n",
       "\n",
       "[685 rows x 2 columns]"
      ]
     },
     "execution_count": 143,
     "metadata": {},
     "output_type": "execute_result"
    }
   ],
   "source": [
    "valueList = dataset.values.tolist()\n",
    "dataset"
   ]
  },
  {
   "cell_type": "code",
   "execution_count": 144,
   "metadata": {},
   "outputs": [],
   "source": [
    "group1 = ['3K-BAT', '7UP', 'ABM', 'ACC', 'AFC', 'AH', 'AIRA', 'ALL', 'ALT', 'AMATAV', 'ANAN', 'AQUA', 'ARIP', 'ASAP', 'ASIA', 'AWC', 'AYUD', 'B', 'BAM', 'BANPU', 'BBL', 'BCP', 'BEC', 'BGT', 'BH', 'BIG', 'BJC', 'BJCHI', 'BKD', 'BLA', 'BLAND', 'BR', 'BTNC', 'BTW', 'BWG', 'CCET', 'CGH', 'CHEWA', 'CIMBT', 'CITY', 'CK', 'CKP', 'CM', 'CMAN', 'CMC', 'CMR', 'CNT', 'COMAN', 'CPH', 'CPL', 'CPNREIT', 'CPT', 'CRANE', 'CRC', 'CSR', 'D', 'DDD', 'DEMCO', 'DHOUSE', 'DV8', 'EASON', 'ECF', 'EE', 'EMC', 'ERWPF', 'F&D', 'FANCY', 'FN', 'FUTUREPF', 'FVC', 'GBX', 'GCAP', 'GEL', 'GENCO', 'GGC', 'GIFT', 'GJS', 'GLAND', 'GLOCON', 'GREEN', 'GSTEEL', 'GTB', 'GYT', 'ICC', 'IHL', 'IMH', 'IMPACT', 'IND', 'INGRS', 'INOX', 'INSURE', 'IT', 'ITD', 'JAK', 'JCK', 'JTS', 'KCM', 'KDH', 'KOOL', 'KPNPF', 'KSL', 'KTB', 'L&E', 'LDC', 'LHFG', 'LHHOTEL', 'LHPF', 'LHSC', 'LOXLEY', 'M-CHAI', 'M-STOR', 'MATI', 'MAX', 'MBK', 'MDX', 'META', 'MIDA', 'MILL', 'MIT', 'MITSIB', 'MJD', 'MJLF', 'MK', 'MNRF', 'OCC', 'OGC', 'OTO', 'PDI', 'PDJ', 'PE', 'PG', 'PK', 'PL', 'PLANB', 'PLANET', 'PLAT', 'PORT', 'PPM', 'PPP', 'PRAKIT', 'PRECHA', 'PRG', 'PRINC', 'PROUD', 'PSL', 'QHHR', 'RAM', 'RICHY', 'RML', 'RPC', 'RSP', 'SALEE', 'SAM', 'SAMCO', 'SCB', 'SCN', 'SE-ED', 'SEAOIL', 'SFP', 'SGF', 'SIAM', 'SIRI', 'SITHAI', 'SKE', 'SLP', 'SSC', 'SSSC', 'STC', 'SYNTEC', 'TAE', 'TAPAC', 'TBSP', 'TCC', 'TCJ', 'TCMC', 'TCOAT', 'TEAM', 'TFI', 'TGPRO', 'TH', 'THANA', 'THCOM', 'THG', 'THMUI', 'TKT', 'TMW', 'TNL', 'TPCS', 'TPP', 'TR', 'TRITN', 'TRT', 'TRU', 'TRUBB', 'TRUE', 'TSE', 'TTB', 'TTCL', 'TTI', 'TVD', 'TVT', 'TWP', 'TWPC', 'TWZ', 'UEC', 'UMI', 'UNIQ', 'UPA', 'URBNPF', 'UT', 'UV', 'VGI', 'VNG', 'VPO', 'VRANDA', 'WHAUP', 'WPH', 'ZEN']\n",
    "group2 = ['A5', 'AI', 'AIE', 'AKR', 'AMANAH', 'AMC', 'APURE', 'ARROW', 'ASIAN', 'ASP', 'BCH', 'BFIT', 'BIZ', 'BOL', 'BROOK', 'CEN', 'CHAYO', 'CHG', 'DELTA', 'DOD', 'DRT', 'EA', 'FORTH', 'GPI', 'GUNKUL', 'HFT', 'HMPRO', 'HTC', 'ICN', 'IIG', 'INSET', 'IP', 'JMART', 'JMT', 'JUBILE', 'KAMART', 'KGI', 'KISS', 'KTC', 'KUN', 'KWC', 'KWM', 'LALIN', 'LST', 'MAKRO', 'MBAX', 'MC', 'MCS', 'MEGA', 'MFC', 'MGT', 'MTC', 'OCEAN', 'ORI', 'OSP', 'PACO', 'PAP', 'PATO', 'PB', 'PDG', 'PERM', 'PHOL', 'PIMO', 'PM', 'PRM', 'PT', 'PTG', 'PTL', 'RBF', 'RJH', 'RS', 'RT', 'S11', 'SABINA', 'SAPPE', 'SAUCE', 'SAWAD', 'SCM', 'SELIC', 'SFLEX', 'SFT', 'SGP', 'SICT', 'SINGER', 'SIS', 'SMPC', 'SONIC', 'SPACK', 'SPCG', 'SPRC', 'SPVI', 'SRICHA', 'SSF', 'STI', 'SUN', 'SVH', 'SWC', 'TACC', 'TCCC', 'TFG', 'TFMAMA', 'THE', 'THIP', 'TIP', 'TMT', 'TNH', 'TNITY', 'TNP', 'TOA', 'TPAC', 'TPIPP', 'TPLAS', 'TQM', 'TSR', 'TTLPF', 'TTW', 'TVO', 'UBIS', 'UPF', 'UPOIC', 'UTP', 'UVAN', 'VCOM', 'VIH', 'VNT', 'YGG', 'YUASA', 'ZIGA']\n",
    "group3 = ['A', 'ABICO', 'ACE', 'ACG', 'ADB', 'AEONTS', 'AF', 'AGE', 'AHC', 'AIMIRT', 'AIT', 'AJ', 'AKP', 'ALLA', 'ALLY', 'ALUCON', 'AMA', 'AMARIN', 'AMATA', 'AMATAR', 'AP', 'APCO', 'APCS', 'APP', 'ASEFA', 'ASIMAR', 'ASK', 'ASN', 'ATP30', 'AU', 'BAY', 'BCPG', 'BCT', 'BDMS', 'BEM', 'BGC', 'BGRIM', 'BKI', 'BKKCP', 'BM', 'BOFFICE', 'BPP', 'BROCK', 'BRR', 'BSBM', 'BTS', 'BUI', 'CAZ', 'CCP', 'CGD', 'CHARAN', 'COLOR', 'COTTO', 'CPALL', 'CPF', 'CPI', 'CPN', 'CPR', 'CPTGF', 'CPW', 'CSC', 'CSS', 'CTARAF', 'CTW', 'CWT', 'DCON', 'DMT', 'DOHOME', 'DREIT', 'DTAC', 'DTCI', 'EASTW', 'ECL', 'EGCO', 'EKH', 'EPG', 'ESTAR', 'ETC', 'ETE', 'EVER', 'FE', 'FLOYD', 'FMT', 'FNS', 'FPI', 'FPT', 'FSS', 'FTE', 'FTREIT', 'GAHREIT', 'GFPT', 'GLOBAL', 'GPSC', 'GRAMMY', 'GULF', 'GVREIT', 'HANA', 'HARN', 'HPF', 'HREIT', 'HTECH', 'HUMAN', 'ICHI', 'IFS', 'III', 'ILINK', 'ILM', 'INET', 'INTUCH', 'IRC', 'IRCP', 'IRPC', 'ITEL', 'IVL', 'J', 'JCT', 'JKN', 'JWD', 'KBANK', 'KCAR', 'KCE', 'KIAT', 'KKP', 'KTIS', 'KUMWEL', 'KYE', 'LANNA', 'LEE', 'LH', 'LHK', 'LIT', 'LPF', 'LPH', 'LPN', 'M', 'MBKET', 'METCO', 'MFEC', 'MICRO', 'MIPF', 'ML', 'MODERN', 'MOONG', 'MSC', 'MTI', 'OISHI', 'PAF', 'PCSGH', 'PJW', 'PMTA', 'POPF', 'PPF', 'PR9', 'PREB', 'PRIME', 'PRIN', 'PSH', 'PTT', 'PTTEP', 'PTTGC', 'PYLON', 'Q-CON', 'QH', 'QHPF', 'QLT', 'QTC', 'RATCH', 'RCI', 'ROJNA', 'RPH', 'RWI', 'S-&-J', 'SAAM', 'SAT', 'SC', 'SCC', 'SCCC', 'SCG', 'SCP', 'SE', 'SEAFCO', 'SENA', 'SF', 'SIMAT', 'SISB', 'SKN', 'SKR', 'SKY', 'SMART', 'SMIT', 'SMK', 'SMT', 'SNC', 'SNP', 'SORKON', 'SPALI', 'SPC', 'SPG', 'SPI', 'SPRIME', 'SQ', 'SRIPANWA', 'SSP', 'SSTRT', 'STANLY', 'STEC', 'SUC', 'SUPER', 'SUSCO', 'SVI', 'SVOA', 'SYMC', 'SYNEX', 'TAKUNI', 'TC', 'TCAP', 'TEAMG', 'TGH', 'THANI', 'THRE', 'THREL', 'TIF1', 'TIGER', 'TIPCO', 'TISCO', 'TK', 'TKN', 'TKS', 'TLHPF', 'TM', 'TMD', 'TMI', 'TMILL', 'TNDT', 'TNPC', 'TNR', 'TOG', 'TOP', 'TOPP', 'TPA', 'TPBI', 'TPCH', 'TPIPL', 'TPOLY', 'TPRIME', 'TPS', 'TSC', 'TSTE', 'TSTH', 'TU', 'TYCN', 'UAC', 'UKEM', 'UOBKH', 'VIBHA', 'VL', 'WHA', 'WHABT', 'WHART', 'WIIK', 'WINNER', 'WORK', 'WP']\n",
    "group4 = ['AJA', 'AOT', 'AQ', 'ARIN', 'BA', 'BAFS', 'BEAUTY', 'CENTEL', 'CFRESH', 'CHO', 'CHOTI', 'CHOW', 'CI', 'CIG', 'CMO', 'CRD', 'GL', 'GOLDPF', 'GRAND', 'GSC', 'HPT', 'JAS', 'JSP', 'K', 'KASET', 'KBS', 'KWG', 'LRH', 'LUXF', 'MAJOR', 'MALEE', 'MANRIN', 'MATCH', 'MINT', 'MONO', 'MORE', 'MPIC', 'MUD', 'MVP', 'PF', 'PICO', 'PLE', 'POLAR', 'PPS', 'PSTC', 'ROCK', 'ROH', 'RP', 'S', 'SAMART', 'SAMTEL', 'SANKO', 'SAWANG', 'SCI', 'SHANG', 'SHR', 'SHREIT', 'SPA', 'SR', 'SST', 'STPI', 'T', 'TITLE', 'TMC', 'TNPF', 'TSI', 'TTA', 'TTT', 'U', 'UP', 'VARO', 'W', 'WACOAL', 'WAVE', 'WIN', 'WR']"
   ]
  },
  {
   "cell_type": "code",
   "execution_count": 145,
   "metadata": {},
   "outputs": [
    {
     "name": "stderr",
     "output_type": "stream",
     "text": [
      "<ipython-input-145-a167b3d68b13>:18: SettingWithCopyWarning: \n",
      "A value is trying to be set on a copy of a slice from a DataFrame.\n",
      "Try using .loc[row_indexer,col_indexer] = value instead\n",
      "\n",
      "See the caveats in the documentation: https://pandas.pydata.org/pandas-docs/stable/user_guide/indexing.html#returning-a-view-versus-a-copy\n",
      "  dataset['Group'] = listGroup\n"
     ]
    }
   ],
   "source": [
    "listGroup = []\n",
    "listGroupInt = []\n",
    "\n",
    "for i in range(len(stockList)):\n",
    "    if stockList[i] in group1:\n",
    "        listGroup.append(\"Group 1\")\n",
    "        listGroupInt.append(1)\n",
    "    if stockList[i] in group2:\n",
    "        listGroup.append(\"Group 2\")\n",
    "        listGroupInt.append(2)\n",
    "    if stockList[i] in group3:\n",
    "        listGroup.append(\"Group 3\")\n",
    "        listGroupInt.append(3)\n",
    "    if stockList[i] in group4:\n",
    "        listGroup.append(\"Group 4\")\n",
    "        listGroupInt.append(4)\n",
    "        \n",
    "dataset['Group'] = listGroup"
   ]
  },
  {
   "cell_type": "code",
   "execution_count": 146,
   "metadata": {},
   "outputs": [
    {
     "data": {
      "text/html": [
       "<div>\n",
       "<style scoped>\n",
       "    .dataframe tbody tr th:only-of-type {\n",
       "        vertical-align: middle;\n",
       "    }\n",
       "\n",
       "    .dataframe tbody tr th {\n",
       "        vertical-align: top;\n",
       "    }\n",
       "\n",
       "    .dataframe thead th {\n",
       "        text-align: right;\n",
       "    }\n",
       "</style>\n",
       "<table border=\"1\" class=\"dataframe\">\n",
       "  <thead>\n",
       "    <tr style=\"text-align: right;\">\n",
       "      <th></th>\n",
       "      <th>Return on Assets</th>\n",
       "      <th>Return on Equity</th>\n",
       "      <th>Group</th>\n",
       "    </tr>\n",
       "    <tr>\n",
       "      <th>Stock</th>\n",
       "      <th></th>\n",
       "      <th></th>\n",
       "      <th></th>\n",
       "    </tr>\n",
       "  </thead>\n",
       "  <tbody>\n",
       "    <tr>\n",
       "      <th>3K-BAT</th>\n",
       "      <td>1.098000</td>\n",
       "      <td>1.452000</td>\n",
       "      <td>Group 1</td>\n",
       "    </tr>\n",
       "    <tr>\n",
       "      <th>7UP</th>\n",
       "      <td>-2.379000</td>\n",
       "      <td>9.174000</td>\n",
       "      <td>Group 1</td>\n",
       "    </tr>\n",
       "    <tr>\n",
       "      <th>A</th>\n",
       "      <td>2.493000</td>\n",
       "      <td>4.580000</td>\n",
       "      <td>Group 3</td>\n",
       "    </tr>\n",
       "    <tr>\n",
       "      <th>A5</th>\n",
       "      <td>8.067001</td>\n",
       "      <td>21.728000</td>\n",
       "      <td>Group 2</td>\n",
       "    </tr>\n",
       "    <tr>\n",
       "      <th>ABICO</th>\n",
       "      <td>4.151000</td>\n",
       "      <td>4.751000</td>\n",
       "      <td>Group 3</td>\n",
       "    </tr>\n",
       "    <tr>\n",
       "      <th>...</th>\n",
       "      <td>...</td>\n",
       "      <td>...</td>\n",
       "      <td>...</td>\n",
       "    </tr>\n",
       "    <tr>\n",
       "      <th>WR</th>\n",
       "      <td>-2.750000</td>\n",
       "      <td>-19.365999</td>\n",
       "      <td>Group 4</td>\n",
       "    </tr>\n",
       "    <tr>\n",
       "      <th>YGG</th>\n",
       "      <td>9.396000</td>\n",
       "      <td>15.767999</td>\n",
       "      <td>Group 2</td>\n",
       "    </tr>\n",
       "    <tr>\n",
       "      <th>YUASA</th>\n",
       "      <td>9.263000</td>\n",
       "      <td>19.083000</td>\n",
       "      <td>Group 2</td>\n",
       "    </tr>\n",
       "    <tr>\n",
       "      <th>ZEN</th>\n",
       "      <td>0.770000</td>\n",
       "      <td>0.695000</td>\n",
       "      <td>Group 1</td>\n",
       "    </tr>\n",
       "    <tr>\n",
       "      <th>ZIGA</th>\n",
       "      <td>7.337000</td>\n",
       "      <td>18.221001</td>\n",
       "      <td>Group 2</td>\n",
       "    </tr>\n",
       "  </tbody>\n",
       "</table>\n",
       "<p>685 rows × 3 columns</p>\n",
       "</div>"
      ],
      "text/plain": [
       "        Return on Assets  Return on Equity    Group\n",
       "Stock                                              \n",
       "3K-BAT          1.098000          1.452000  Group 1\n",
       "7UP            -2.379000          9.174000  Group 1\n",
       "A               2.493000          4.580000  Group 3\n",
       "A5              8.067001         21.728000  Group 2\n",
       "ABICO           4.151000          4.751000  Group 3\n",
       "...                  ...               ...      ...\n",
       "WR             -2.750000        -19.365999  Group 4\n",
       "YGG             9.396000         15.767999  Group 2\n",
       "YUASA           9.263000         19.083000  Group 2\n",
       "ZEN             0.770000          0.695000  Group 1\n",
       "ZIGA            7.337000         18.221001  Group 2\n",
       "\n",
       "[685 rows x 3 columns]"
      ]
     },
     "execution_count": 146,
     "metadata": {},
     "output_type": "execute_result"
    }
   ],
   "source": [
    "dataset"
   ]
  },
  {
   "cell_type": "markdown",
   "metadata": {},
   "source": [
    "# KNN"
   ]
  },
  {
   "cell_type": "code",
   "execution_count": 147,
   "metadata": {},
   "outputs": [],
   "source": [
    "def kdeplot_(dataframe, col, ax=None):\n",
    "    ax = sns.kdeplot(dataframe[col][dataframe[\"Group\"] == \"Group 1\"], color = \"Red\", ax=ax, shade=True)\n",
    "    ax = sns.kdeplot(dataframe[col][dataframe[\"Group\"] == \"Group 2\"], color = \"Blue\", ax=ax, shade=True)\n",
    "    ax = sns.kdeplot(dataframe[col][dataframe[\"Group\"] == \"Group 3\"], color = \"Yellow\", ax=ax, shade=True)\n",
    "    ax = sns.kdeplot(dataframe[col][dataframe[\"Group\"] == \"Group 4\"], color = \"Green\", ax=ax, shade=True)\n",
    "    \n",
    "    ax.set_title(f\"Distribution of {col} by class\", fontsize=17, color = 'brown')\n",
    "    plt.draw()\n",
    "    \n",
    "    ax.set_xlabel(col, fontsize = 15)\n",
    "    ax.set_xticklabels(ax.get_xticklabels(), fontsize = 15)\n",
    "    \n",
    "    ax.set_ylabel('Density', fontsize = 15)\n",
    "    ax.set_yticklabels(ax.get_yticklabels(), fontsize = 15)\n",
    "    \n",
    "    ax.legend(['Group 1', 'Group 2', 'Group 3', 'Group 4'], loc = 'upper right', frameon=True, shadow=True)"
   ]
  },
  {
   "cell_type": "code",
   "execution_count": 148,
   "metadata": {},
   "outputs": [
    {
     "name": "stderr",
     "output_type": "stream",
     "text": [
      "<ipython-input-147-fc2e4235d3ea>:11: UserWarning: FixedFormatter should only be used together with FixedLocator\n",
      "  ax.set_xticklabels(ax.get_xticklabels(), fontsize = 15)\n",
      "<ipython-input-147-fc2e4235d3ea>:14: UserWarning: FixedFormatter should only be used together with FixedLocator\n",
      "  ax.set_yticklabels(ax.get_yticklabels(), fontsize = 15)\n"
     ]
    },
    {
     "data": {
      "image/png": "[encoded data removed]",
      "text/plain": [
       "<Figure size 432x288 with 1 Axes>"
      ]
     },
     "metadata": {
      "needs_background": "light"
     },
     "output_type": "display_data"
    }
   ],
   "source": [
    "kdeplot_(dataset, 'Return on Assets')"
   ]
  },
  {
   "cell_type": "code",
   "execution_count": 149,
   "metadata": {},
   "outputs": [
    {
     "name": "stderr",
     "output_type": "stream",
     "text": [
      "<ipython-input-147-fc2e4235d3ea>:11: UserWarning: FixedFormatter should only be used together with FixedLocator\n",
      "  ax.set_xticklabels(ax.get_xticklabels(), fontsize = 15)\n",
      "<ipython-input-147-fc2e4235d3ea>:14: UserWarning: FixedFormatter should only be used together with FixedLocator\n",
      "  ax.set_yticklabels(ax.get_yticklabels(), fontsize = 15)\n"
     ]
    },
    {
     "data": {
      "image/png": "[encoded data removed]",
      "text/plain": [
       "<Figure size 432x288 with 1 Axes>"
      ]
     },
     "metadata": {
      "needs_background": "light"
     },
     "output_type": "display_data"
    }
   ],
   "source": [
    "kdeplot_(dataset, 'Return on Equity')"
   ]
  },
  {
   "cell_type": "code",
   "execution_count": 170,
   "metadata": {},
   "outputs": [],
   "source": [
    "from sklearn import( \n",
    "    linear_model, metrics, pipeline, preprocessing, model_selection\n",
    ")\n",
    "\n",
    "from sklearn.pipeline import Pipeline\n",
    "from sklearn.neighbors import KNeighborsClassifier\n",
    "from sklearn.preprocessing import StandardScaler\n",
    "\n",
    "classifier = KNeighborsClassifier(n_neighbors=3)\n",
    "\n",
    "from sklearn.model_selection import KFold"
   ]
  },
  {
   "cell_type": "code",
   "execution_count": 176,
   "metadata": {},
   "outputs": [],
   "source": [
    "from sklearn.model_selection import train_test_split\n",
    "\n",
    "X = dataset.drop(columns=['Group'])\n",
    "y = dataset['Group'].values\n",
    "\n",
    "X_train, X_test, y_train, y_test = train_test_split(X, y, test_size=0.2, random_state=1, stratify=y)"
   ]
  },
  {
   "cell_type": "code",
   "execution_count": 177,
   "metadata": {},
   "outputs": [
    {
     "data": {
      "text/plain": [
       "KNeighborsClassifier(n_neighbors=3)"
      ]
     },
     "execution_count": 177,
     "metadata": {},
     "output_type": "execute_result"
    }
   ],
   "source": [
    "from sklearn.neighbors import KNeighborsClassifier\n",
    "# Create KNN classifier\n",
    "knn = KNeighborsClassifier(n_neighbors = 4)\n",
    "# Fit the classifier to the data\n",
    "knn.fit(X_train,y_train)"
   ]
  },
  {
   "cell_type": "code",
   "execution_count": 178,
   "metadata": {
    "scrolled": true
   },
   "outputs": [
    {
     "data": {
      "text/plain": [
       "array(['Group 3', 'Group 3', 'Group 3', 'Group 1', 'Group 1'],\n",
       "      dtype=object)"
      ]
     },
     "execution_count": 178,
     "metadata": {},
     "output_type": "execute_result"
    }
   ],
   "source": [
    "knn.predict(X_test)[0:5]"
   ]
  },
  {
   "cell_type": "code",
   "execution_count": 179,
   "metadata": {},
   "outputs": [
    {
     "data": {
      "text/plain": [
       "0.9781021897810219"
      ]
     },
     "execution_count": 179,
     "metadata": {},
     "output_type": "execute_result"
    }
   ],
   "source": [
    "knn.score(X_test, y_test)"
   ]
  },
  {
   "cell_type": "code",
   "execution_count": 181,
   "metadata": {},
   "outputs": [
    {
     "name": "stdout",
     "output_type": "stream",
     "text": [
      "[0.97080292 0.95620438 0.98540146 0.97810219 0.91240876]\n",
      "cv_scores mean:0.9605839416058395\n"
     ]
    }
   ],
   "source": [
    "from sklearn.model_selection import cross_val_score\n",
    "import numpy as np\n",
    "\n",
    "#create a new KNN model\n",
    "knn_cv = KNeighborsClassifier(n_neighbors=4)\n",
    "\n",
    "#train model with cv of 5 \n",
    "cv_scores = cross_val_score(knn_cv, X, y, cv=5)\n",
    "\n",
    "#print each cv score (accuracy) and average them\n",
    "print(cv_scores)\n",
    "print('cv_scores mean:{}'.format(np.mean(cv_scores)))"
   ]
  },
  {
   "cell_type": "code",
   "execution_count": 183,
   "metadata": {},
   "outputs": [
    {
     "data": {
      "text/plain": [
       "GridSearchCV(cv=5, estimator=KNeighborsClassifier(),\n",
       "             param_grid={'n_neighbors': array([ 1,  2,  3,  4,  5,  6,  7,  8,  9, 10, 11, 12, 13, 14, 15, 16, 17,\n",
       "       18, 19, 20, 21, 22, 23, 24])})"
      ]
     },
     "execution_count": 183,
     "metadata": {},
     "output_type": "execute_result"
    }
   ],
   "source": [
    "from sklearn.model_selection import GridSearchCV\n",
    "#create new a knn model\n",
    "knn2 = KNeighborsClassifier()\n",
    "#create a dictionary of all values we want to test for n_neighbors\n",
    "param_grid = {'n_neighbors': np.arange(1, 25)}\n",
    "#use gridsearch to test all values for n_neighbors\n",
    "knn_gscv = GridSearchCV(knn2, param_grid, cv=5)\n",
    "#fit model to data\n",
    "knn_gscv.fit(X, y)"
   ]
  },
  {
   "cell_type": "code",
   "execution_count": 184,
   "metadata": {},
   "outputs": [
    {
     "data": {
      "text/plain": [
       "{'n_neighbors': 1}"
      ]
     },
     "execution_count": 184,
     "metadata": {},
     "output_type": "execute_result"
    }
   ],
   "source": [
    "knn_gscv.best_params_"
   ]
  },
  {
   "cell_type": "code",
   "execution_count": 185,
   "metadata": {
    "scrolled": true
   },
   "outputs": [
    {
     "data": {
      "text/plain": [
       "0.981021897810219"
      ]
     },
     "execution_count": 185,
     "metadata": {},
     "output_type": "execute_result"
    }
   ],
   "source": [
    "knn_gscv.best_score_"
   ]
  },
  {
   "cell_type": "markdown",
   "metadata": {},
   "source": [
    "# Logistic Regression"
   ]
  },
  {
   "cell_type": "code",
   "execution_count": 186,
   "metadata": {},
   "outputs": [
    {
     "data": {
      "text/plain": [
       "<AxesSubplot:>"
      ]
     },
     "execution_count": 186,
     "metadata": {},
     "output_type": "execute_result"
    },
    {
     "data": {
      "image/png": "[encoded data removed]",
      "text/plain": [
       "<Figure size 720x504 with 1 Axes>"
      ]
     },
     "metadata": {
      "needs_background": "light"
     },
     "output_type": "display_data"
    }
   ],
   "source": [
    "dataset.boxplot(column=['Return on Assets','Return on Equity'], figsize=[10,7])"
   ]
  },
  {
   "cell_type": "code",
   "execution_count": 187,
   "metadata": {},
   "outputs": [
    {
     "data": {
      "image/png": "[encoded data removed]",
      "text/plain": [
       "<Figure size 432x288 with 2 Axes>"
      ]
     },
     "metadata": {
      "needs_background": "light"
     },
     "output_type": "display_data"
    }
   ],
   "source": [
    "dataset.hist()\n",
    "plt.show()"
   ]
  },
  {
   "cell_type": "code",
   "execution_count": 188,
   "metadata": {},
   "outputs": [
    {
     "name": "stderr",
     "output_type": "stream",
     "text": [
      "c:\\users\\doudou\\appdata\\local\\programs\\python\\python39\\lib\\site-packages\\seaborn\\distributions.py:2557: FutureWarning: `distplot` is a deprecated function and will be removed in a future version. Please adapt your code to use either `displot` (a figure-level function with similar flexibility) or `histplot` (an axes-level function for histograms).\n",
      "  warnings.warn(msg, FutureWarning)\n"
     ]
    },
    {
     "data": {
      "text/plain": [
       "<AxesSubplot:xlabel='Return on Assets', ylabel='Density'>"
      ]
     },
     "execution_count": 188,
     "metadata": {},
     "output_type": "execute_result"
    },
    {
     "data": {
      "image/png": "[encoded data removed]",
      "text/plain": [
       "<Figure size 432x288 with 1 Axes>"
      ]
     },
     "metadata": {
      "needs_background": "light"
     },
     "output_type": "display_data"
    }
   ],
   "source": [
    "import seaborn as sns\n",
    "sns.distplot(dataset['Return on Assets'])"
   ]
  },
  {
   "cell_type": "code",
   "execution_count": 189,
   "metadata": {},
   "outputs": [
    {
     "name": "stderr",
     "output_type": "stream",
     "text": [
      "c:\\users\\doudou\\appdata\\local\\programs\\python\\python39\\lib\\site-packages\\seaborn\\distributions.py:2557: FutureWarning: `distplot` is a deprecated function and will be removed in a future version. Please adapt your code to use either `displot` (a figure-level function with similar flexibility) or `histplot` (an axes-level function for histograms).\n",
      "  warnings.warn(msg, FutureWarning)\n"
     ]
    },
    {
     "data": {
      "text/plain": [
       "<AxesSubplot:xlabel='Return on Equity', ylabel='Density'>"
      ]
     },
     "execution_count": 189,
     "metadata": {},
     "output_type": "execute_result"
    },
    {
     "data": {
      "image/png": "[encoded data removed]",
      "text/plain": [
       "<Figure size 432x288 with 1 Axes>"
      ]
     },
     "metadata": {
      "needs_background": "light"
     },
     "output_type": "display_data"
    }
   ],
   "source": [
    "sns.distplot(dataset['Return on Equity'])"
   ]
  },
  {
   "cell_type": "code",
   "execution_count": 191,
   "metadata": {},
   "outputs": [
    {
     "data": {
      "image/png": "[encoded data removed]",
      "text/plain": [
       "<Figure size 720x504 with 4 Axes>"
      ]
     },
     "metadata": {
      "needs_background": "light"
     },
     "output_type": "display_data"
    }
   ],
   "source": [
    "from pandas.plotting import scatter_matrix\n",
    "# scatter plot matrix\n",
    "scatter_matrix(dataset, figsize=[10,7])\n",
    "plt.show()"
   ]
  },
  {
   "cell_type": "code",
   "execution_count": 195,
   "metadata": {},
   "outputs": [],
   "source": [
    "validation_size = 0.2\n",
    "seed = 7 #random number\n",
    "X_train, X_validation, y_train, y_validation = model_selection.train_test_split(X, y, test_size = validation_size, random_state = seed)"
   ]
  },
  {
   "cell_type": "code",
   "execution_count": 196,
   "metadata": {},
   "outputs": [
    {
     "data": {
      "text/plain": [
       "(137, 2)"
      ]
     },
     "execution_count": 196,
     "metadata": {},
     "output_type": "execute_result"
    }
   ],
   "source": [
    "X_validation = np.array(X_validation)\n",
    "\n",
    "X_validation = X_validation.reshape(-1,2)  #reshape(-1,2) >>(-1, n.of features)\n",
    "\n",
    "X_validation.shape"
   ]
  },
  {
   "cell_type": "code",
   "execution_count": 198,
   "metadata": {},
   "outputs": [],
   "source": [
    "from sklearn.linear_model import LogisticRegression\n",
    "models = [] #an empty list\n",
    "models.append(('LR', LogisticRegression()))\n",
    "models.append(('KNN', KNeighborsClassifier()))"
   ]
  },
  {
   "cell_type": "code",
   "execution_count": 202,
   "metadata": {},
   "outputs": [
    {
     "name": "stdout",
     "output_type": "stream",
     "text": [
      "LR 0.9799663299663299 0.02064785818302153\n",
      "KNN 0.9671717171717171 0.02269932188221518\n"
     ]
    },
    {
     "name": "stderr",
     "output_type": "stream",
     "text": [
      "c:\\users\\doudou\\appdata\\local\\programs\\python\\python39\\lib\\site-packages\\sklearn\\linear_model\\_logistic.py:763: ConvergenceWarning: lbfgs failed to converge (status=1):\n",
      "STOP: TOTAL NO. of ITERATIONS REACHED LIMIT.\n",
      "\n",
      "Increase the number of iterations (max_iter) or scale the data as shown in:\n",
      "    https://scikit-learn.org/stable/modules/preprocessing.html\n",
      "Please also refer to the documentation for alternative solver options:\n",
      "    https://scikit-learn.org/stable/modules/linear_model.html#logistic-regression\n",
      "  n_iter_i = _check_optimize_result(\n",
      "c:\\users\\doudou\\appdata\\local\\programs\\python\\python39\\lib\\site-packages\\sklearn\\linear_model\\_logistic.py:763: ConvergenceWarning: lbfgs failed to converge (status=1):\n",
      "STOP: TOTAL NO. of ITERATIONS REACHED LIMIT.\n",
      "\n",
      "Increase the number of iterations (max_iter) or scale the data as shown in:\n",
      "    https://scikit-learn.org/stable/modules/preprocessing.html\n",
      "Please also refer to the documentation for alternative solver options:\n",
      "    https://scikit-learn.org/stable/modules/linear_model.html#logistic-regression\n",
      "  n_iter_i = _check_optimize_result(\n"
     ]
    }
   ],
   "source": [
    "models\n",
    "seed = 7\n",
    "scoring ='accuracy'\n",
    "results =[]\n",
    "names = []\n",
    "\n",
    "for name, model in models:\n",
    "        kfold = model_selection.KFold(n_splits=10, random_state = seed, shuffle=True)\n",
    "        cv_results = model_selection.cross_val_score(model, X_train, y_train, cv=kfold, scoring=scoring)\n",
    "        results.append(cv_results)\n",
    "        names.append(name)\n",
    "        print(name, cv_results.mean(), cv_results.std())"
   ]
  },
  {
   "cell_type": "code",
   "execution_count": 207,
   "metadata": {},
   "outputs": [
    {
     "name": "stdout",
     "output_type": "stream",
     "text": [
      "LR\n",
      "0.9781021897810219\n",
      "              precision    recall  f1-score   support\n",
      "\n",
      "     Group 1       0.93      1.00      0.96        39\n",
      "     Group 2       1.00      1.00      1.00        30\n",
      "     Group 3       1.00      0.96      0.98        54\n",
      "     Group 4       1.00      0.93      0.96        14\n",
      "\n",
      "    accuracy                           0.98       137\n",
      "   macro avg       0.98      0.97      0.98       137\n",
      "weighted avg       0.98      0.98      0.98       137\n",
      "\n",
      "KNN\n",
      "0.927007299270073\n",
      "              precision    recall  f1-score   support\n",
      "\n",
      "     Group 1       0.88      0.97      0.93        39\n",
      "     Group 2       0.96      0.90      0.93        30\n",
      "     Group 3       0.93      0.94      0.94        54\n",
      "     Group 4       1.00      0.79      0.88        14\n",
      "\n",
      "    accuracy                           0.93       137\n",
      "   macro avg       0.94      0.90      0.92       137\n",
      "weighted avg       0.93      0.93      0.93       137\n",
      "\n"
     ]
    }
   ],
   "source": [
    "from sklearn.metrics import accuracy_score\n",
    "from sklearn.metrics import classification_report\n",
    "\n",
    "for name, model in models:\n",
    "        model.fit(X_train, y_train)\n",
    "        predictions = model.predict(X_validation)\n",
    "        print(name)\n",
    "        print(accuracy_score(y_validation, predictions))\n",
    "        print(classification_report(y_validation, predictions))"
   ]
  }
 ],
 "metadata": {
  "kernelspec": {
   "display_name": "Python 3",
   "language": "python",
   "name": "python3"
  },
  "language_info": {
   "codemirror_mode": {
    "name": "ipython",
    "version": 3
   },
   "file_extension": ".py",
   "mimetype": "text/x-python",
   "name": "python",
   "nbconvert_exporter": "python",
   "pygments_lexer": "ipython3",
   "version": "3.9.0"
  }
 },
 "nbformat": 4,
 "nbformat_minor": 4
}
